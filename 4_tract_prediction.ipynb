{
 "cells": [
  {
   "cell_type": "code",
   "execution_count": 2,
   "metadata": {},
   "outputs": [],
   "source": [
    "import pandas as pd\n",
    "from scipy.stats import chi2_contingency, ttest_ind\n",
    "import matplotlib.pyplot as plt\n",
    "import seaborn as sns\n",
    "\n",
    "airbnb_data = pd.read_csv(\"cleaned_airbnb_Chicago.csv\")"
   ]
  },
  {
   "cell_type": "markdown",
   "metadata": {},
   "source": [
    "Plain optimisation of the consolidated score"
   ]
  },
  {
   "cell_type": "code",
   "execution_count": 5,
   "metadata": {},
   "outputs": [
    {
     "name": "stdout",
     "output_type": "stream",
     "text": [
      "17031300500.0 386.6666666666667\n"
     ]
    },
    {
     "data": {
      "image/png": "[encoded data removed]",
      "text/plain": [
       "<Figure size 800x600 with 1 Axes>"
      ]
     },
     "metadata": {},
     "output_type": "display_data"
    }
   ],
   "source": [
    "############################\n",
    "from sklearn.preprocessing import MinMaxScaler\n",
    "\n",
    "\n",
    "airbnb_data['booking_rate'] = (airbnb_data['booked_days'] / airbnb_data['available_days']) * 100\n",
    "airbnb_data['tract_hosts'] = (airbnb_data['tract_superhosts'] / airbnb_data['tract_superhosts_ratio']) * 100\n",
    "\n",
    "# Calculating normalized metrics for bookings and cancellations per population\n",
    "tract_metrics = airbnb_data.groupby('census_tract').agg({\n",
    "    'numReservedDays_pastYear': 'sum',\n",
    "    'numCancel_pastYear': 'sum',\n",
    "    'tract_housing_units' : 'sum',\n",
    "    'revenue' : 'sum',\n",
    "    'tract_superhosts' : 'sum',\n",
    "    'tract_hosts':'sum',\n",
    "    'booking_rate':'mean',\n",
    "    'tract_total_pop': 'mean'\n",
    "}).reset_index()\n",
    "\n",
    "# filtering\n",
    "tract_metrics = tract_metrics[tract_metrics['tract_hosts'] != 0]\n",
    "\n",
    "\n",
    "tract_metrics['booking_rate_per_host'] = tract_metrics['booking_rate'] / tract_metrics['tract_hosts']\n",
    "tract_metrics['revenue_per_host'] = tract_metrics['revenue'] / tract_metrics['tract_hosts']\n",
    "tract_metrics['superhosts_per_host'] = tract_metrics['tract_superhosts'] / tract_metrics['tract_hosts']\n",
    "tract_metrics['cancellations_per_host'] = tract_metrics['numCancel_pastYear'] / tract_metrics['tract_hosts']\n",
    "tract_metrics['reservations_per_host'] = tract_metrics['numReservedDays_pastYear'] / tract_metrics['tract_hosts']\n",
    "\n",
    "\n",
    "\n",
    "# Select the columns you want to normalize\n",
    "columns_to_normalize = [\n",
    "    'booking_rate_per_host',\n",
    "    'revenue_per_host',\n",
    "    'superhosts_per_host',\n",
    "    'reservations_per_host',\n",
    "    'cancellations_per_host'\n",
    "]\n",
    "\n",
    "# Create a MinMaxScaler\n",
    "scaler = MinMaxScaler(feature_range=(0, 100))\n",
    "\n",
    "# Apply Min-Max scaling to the selected columns\n",
    "tract_metrics[columns_to_normalize] = scaler.fit_transform(tract_metrics[columns_to_normalize])\n",
    "\n",
    "\n",
    "\n",
    "# Combined score per host\n",
    "tract_metrics['combined_score_per_host'] = (\n",
    "    tract_metrics['booking_rate_per_host'] +\n",
    "    tract_metrics['revenue_per_host'] +\n",
    "    tract_metrics['superhosts_per_host'] +\n",
    "    tract_metrics['reservations_per_host'] -\n",
    "    tract_metrics['cancellations_per_host']\n",
    ")\n",
    "\n",
    "# Identifying the tract with the highest combined score\n",
    "optimal_tract = tract_metrics.sort_values(by='combined_score_per_host', ascending=False).iloc[0]\n",
    "optimal_tract_id = optimal_tract['census_tract']\n",
    "optimal_tract_score = optimal_tract['combined_score_per_host']\n",
    "\n",
    "print(optimal_tract_id, optimal_tract_score)\n",
    "\n",
    "\n",
    "# Create a histogram of the combined scores\n",
    "plt.figure(figsize=(8, 6))\n",
    "plt.style.use('ggplot')\n",
    "plt.hist(tract_metrics['combined_score_per_host'], bins=20, color='skyblue', edgecolor='black')\n",
    "plt.xlabel('Combined Score')\n",
    "plt.ylabel('Frequency')\n",
    "plt.title('Histogram of Combined Scores')\n",
    "plt.show()"
   ]
  },
  {
   "cell_type": "code",
   "execution_count": 12,
   "metadata": {},
   "outputs": [
    {
     "name": "stdout",
     "output_type": "stream",
     "text": [
      "Cluster 1 - High Scores:\n",
      "Count: 1\n",
      "Mean Score: 386.6666666666667\n",
      "\n",
      "\n",
      "Cluster 2 - Lower Scores:\n",
      "Count: 526\n",
      "Mean Score: 40.55383059709374\n"
     ]
    }
   ],
   "source": [
    "# Define the threshold score\n",
    "threshold_score = 200\n",
    "\n",
    "# Create a mask to identify tracts with scores greater than or equal to the threshold\n",
    "high_score_mask = tract_metrics['combined_score_per_host'] >= threshold_score\n",
    "\n",
    "# Split the tracts into two clusters based on the mask\n",
    "high_score_tracts = tract_metrics[high_score_mask]\n",
    "low_score_tracts = tract_metrics[~high_score_mask]\n",
    "\n",
    "# Get the counts and means for both clusters\n",
    "count_high_score = len(high_score_tracts)\n",
    "mean_high_score = high_score_tracts['combined_score_per_host'].mean()\n",
    "\n",
    "count_low_score = len(low_score_tracts)\n",
    "mean_low_score = low_score_tracts['combined_score_per_host'].mean()\n",
    "\n",
    "# Print the counts and means for both clusters\n",
    "print(f\"Cluster 1 - High Scores:\")\n",
    "print(f\"Count: {count_high_score}\")\n",
    "print(f\"Mean Score: {mean_high_score}\")\n",
    "\n",
    "print(\"\\n\")\n",
    "\n",
    "print(f\"Cluster 2 - Lower Scores:\")\n",
    "print(f\"Count: {count_low_score}\")\n",
    "print(f\"Mean Score: {mean_low_score}\")\n"
   ]
  },
  {
   "cell_type": "markdown",
   "metadata": {},
   "source": [
    "Combining multiple binary clusters to find overlap"
   ]
  },
  {
   "cell_type": "code",
   "execution_count": 6,
   "metadata": {},
   "outputs": [
    {
     "name": "stderr",
     "output_type": "stream",
     "text": [
      "c:\\Python310\\lib\\site-packages\\sklearn\\cluster\\_kmeans.py:1416: FutureWarning: The default value of `n_init` will change from 10 to 'auto' in 1.4. Set the value of `n_init` explicitly to suppress the warning\n",
      "  super()._check_params_vs_input(X, default_n_init=10)\n",
      "c:\\Python310\\lib\\site-packages\\sklearn\\cluster\\_kmeans.py:1416: FutureWarning: The default value of `n_init` will change from 10 to 'auto' in 1.4. Set the value of `n_init` explicitly to suppress the warning\n",
      "  super()._check_params_vs_input(X, default_n_init=10)\n",
      "c:\\Python310\\lib\\site-packages\\sklearn\\cluster\\_kmeans.py:1416: FutureWarning: The default value of `n_init` will change from 10 to 'auto' in 1.4. Set the value of `n_init` explicitly to suppress the warning\n",
      "  super()._check_params_vs_input(X, default_n_init=10)\n",
      "c:\\Python310\\lib\\site-packages\\sklearn\\cluster\\_kmeans.py:1416: FutureWarning: The default value of `n_init` will change from 10 to 'auto' in 1.4. Set the value of `n_init` explicitly to suppress the warning\n",
      "  super()._check_params_vs_input(X, default_n_init=10)\n",
      "c:\\Python310\\lib\\site-packages\\sklearn\\cluster\\_kmeans.py:1416: FutureWarning: The default value of `n_init` will change from 10 to 'auto' in 1.4. Set the value of `n_init` explicitly to suppress the warning\n",
      "  super()._check_params_vs_input(X, default_n_init=10)\n"
     ]
    },
    {
     "data": {
      "text/html": [
       "<div>\n",
       "<style scoped>\n",
       "    .dataframe tbody tr th:only-of-type {\n",
       "        vertical-align: middle;\n",
       "    }\n",
       "\n",
       "    .dataframe tbody tr th {\n",
       "        vertical-align: top;\n",
       "    }\n",
       "\n",
       "    .dataframe thead th {\n",
       "        text-align: right;\n",
       "    }\n",
       "</style>\n",
       "<table border=\"1\" class=\"dataframe\">\n",
       "  <thead>\n",
       "    <tr style=\"text-align: right;\">\n",
       "      <th></th>\n",
       "      <th>census_tract</th>\n",
       "      <th>booking_rate_per_host</th>\n",
       "      <th>revenue_per_host</th>\n",
       "      <th>superhosts_per_host</th>\n",
       "      <th>reservations_per_host</th>\n",
       "      <th>cancellations_per_host</th>\n",
       "    </tr>\n",
       "  </thead>\n",
       "  <tbody>\n",
       "    <tr>\n",
       "      <th>319</th>\n",
       "      <td>17031300500</td>\n",
       "      <td>100.0</td>\n",
       "      <td>100.0</td>\n",
       "      <td>100.0</td>\n",
       "      <td>100.0</td>\n",
       "      <td>13.333333</td>\n",
       "    </tr>\n",
       "  </tbody>\n",
       "</table>\n",
       "</div>"
      ],
      "text/plain": [
       "     census_tract  booking_rate_per_host  revenue_per_host  \\\n",
       "319   17031300500                  100.0             100.0   \n",
       "\n",
       "     superhosts_per_host  reservations_per_host  cancellations_per_host  \n",
       "319                100.0                  100.0               13.333333  "
      ]
     },
     "execution_count": 6,
     "metadata": {},
     "output_type": "execute_result"
    }
   ],
   "source": [
    "from sklearn.cluster import KMeans\n",
    "\n",
    "# Assuming 'tract_metrics' DataFrame already has the new variables calculated\n",
    "\n",
    "# List of new variables for clustering\n",
    "new_vars_for_clustering = [\n",
    "    'booking_rate_per_host',\n",
    "    'revenue_per_host',\n",
    "    'superhosts_per_host',\n",
    "    'reservations_per_host',\n",
    "    'cancellations_per_host'\n",
    "]\n",
    "\n",
    "# Normalizing the new data\n",
    "new_data_normalized = tract_metrics[new_vars_for_clustering].apply(lambda x: (x - x.mean()) / x.std())\n",
    "\n",
    "# Applying K-Means clustering to each new variable\n",
    "# We use 2 clusters: one for high and one for low values for each parameter\n",
    "kmeans_results = {}\n",
    "for var in new_vars_for_clustering:\n",
    "    kmeans = KMeans(n_clusters=2, random_state=0).fit(new_data_normalized[[var]])\n",
    "    tract_metrics[var + '_cluster'] = kmeans.labels_\n",
    "    kmeans_results[var] = kmeans\n",
    "\n",
    "# Identify the high value cluster for each variable\n",
    "# Assuming that for booking rate, revenue, superhosts, and reservations, the higher cluster is better (higher mean is better)\n",
    "# For cancellations, the lower cluster is better (lower mean is better)\n",
    "high_value_clusters = {}\n",
    "for var in new_vars_for_clustering:\n",
    "    if var == 'cancellations_per_host':\n",
    "        # For cancellations, we want the cluster with the lower mean\n",
    "        high_value_clusters[var] = tract_metrics.groupby(var + '_cluster')[var].mean().idxmin()\n",
    "    else:\n",
    "        # For all other variables, we want the cluster with the higher mean\n",
    "        high_value_clusters[var] = tract_metrics.groupby(var + '_cluster')[var].mean().idxmax()\n",
    "\n",
    "# Finding the common tracts that fall into the desirable clusters for all variables\n",
    "optimal_tracts = tract_metrics.copy()\n",
    "for var, cluster in high_value_clusters.items():\n",
    "    optimal_tracts = optimal_tracts[optimal_tracts[var + '_cluster'] == cluster]\n",
    "\n",
    "# Select only the census_tract and the new variables for clustering\n",
    "optimal_tracts = optimal_tracts[['census_tract'] + new_vars_for_clustering]\n",
    "\n",
    "optimal_tracts\n"
   ]
  },
  {
   "cell_type": "markdown",
   "metadata": {},
   "source": [
    "Plain Clustering from samridhi"
   ]
  },
  {
   "cell_type": "code",
   "execution_count": 7,
   "metadata": {},
   "outputs": [
    {
     "data": {
      "image/png": "[encoded data removed]",
      "text/plain": [
       "<Figure size 640x480 with 1 Axes>"
      ]
     },
     "metadata": {},
     "output_type": "display_data"
    },
    {
     "name": "stdout",
     "output_type": "stream",
     "text": [
      "Cluster centers (in the original feature space):\n",
      "   booking_rate_per_host  revenue_per_host  superhosts_per_host  \\\n",
      "0               1.028510          0.432229            38.175886   \n",
      "1             100.000000        100.000000           100.000000   \n",
      "2              46.662498         12.742170            92.132505   \n",
      "\n",
      "   reservations_per_host  cancellations_per_host  \n",
      "0               0.028495                0.512315  \n",
      "1             100.000000               13.333333  \n",
      "2               0.238468               30.740741  \n",
      "\n",
      "\n",
      "Cluster\n",
      "0    517\n",
      "1      1\n",
      "2      9\n",
      "Name: census_tract, dtype: int64\n"
     ]
    }
   ],
   "source": [
    "from sklearn.preprocessing import StandardScaler\n",
    "from sklearn.cluster import KMeans\n",
    "import matplotlib.pyplot as plt\n",
    "from sklearn.impute import SimpleImputer\n",
    "import numpy as np\n",
    "\n",
    "features = ['booking_rate_per_host',\n",
    "    'revenue_per_host',\n",
    "    'superhosts_per_host',\n",
    "    'reservations_per_host',\n",
    "    'cancellations_per_host']\n",
    "\n",
    "\n",
    "X = tract_metrics[features]\n",
    " \n",
    "# Standardize the features\n",
    "scaler = StandardScaler()\n",
    "X_scaled = scaler.fit_transform(X)\n",
    "\n",
    "#Imputed with median\n",
    "imputer = SimpleImputer(missing_values=np.nan, strategy='median')\n",
    "X_imputed = imputer.fit_transform(X_scaled)\n",
    " \n",
    "# Determine the optimal number of clusters using the elbow method\n",
    "wcss = []\n",
    "for i in range(1, 11):\n",
    "    kmeans = KMeans(n_clusters=i, init='k-means++', max_iter=300, n_init=10, random_state=0)\n",
    "    kmeans.fit(X_imputed)\n",
    "    wcss.append(kmeans.inertia_)\n",
    " \n",
    "# Plot the elbow graph\n",
    "plt.plot(range(1, 11), wcss)\n",
    "plt.style.use('ggplot')\n",
    "plt.title('Elbow Method')\n",
    "plt.xlabel('Number of clusters')\n",
    "plt.ylabel('WCSS')\n",
    "plt.show()\n",
    " \n",
    "# Assuming the elbow point is at 3 clusters (this should be determined by observing the plot)\n",
    "optimal_clusters = 3\n",
    "kmeans = KMeans(n_clusters=optimal_clusters, init='k-means++', max_iter=300, n_init=10, random_state=0)\n",
    "clusters = kmeans.fit_predict(X_imputed)\n",
    " \n",
    "# Add the cluster data to the original DataFrame\n",
    "tract_metrics['Cluster'] = clusters\n",
    " \n",
    "# Invert the scale transformation on cluster centers\n",
    "cluster_centers = scaler.inverse_transform(kmeans.cluster_centers_)\n",
    " \n",
    "# Create a DataFrame for cluster center features for better interpretability\n",
    "cluster_centers_df = pd.DataFrame(cluster_centers, columns=features)\n",
    "print(\"Cluster centers (in the original feature space):\")\n",
    "print(cluster_centers_df)\n",
    "\n",
    "print(\"\\n\")\n",
    "\n",
    "\n",
    "tract_counts_per_cluster = tract_metrics.groupby('Cluster')['census_tract'].nunique()\n",
    "print(tract_counts_per_cluster)"
   ]
  },
  {
   "cell_type": "code",
   "execution_count": 19,
   "metadata": {},
   "outputs": [
    {
     "name": "stdout",
     "output_type": "stream",
     "text": [
      "Cluster 0:\n",
      "[17031010100, 17031010201, 17031010202, 17031010300, 17031010400, 17031010501, 17031010502, 17031010503, 17031010600, 17031010701, 17031010702, 17031020100, 17031020200, 17031020301, 17031020400, 17031020500, 17031020601, 17031020602, 17031020701, 17031020702, 17031020801, 17031020802, 17031020901, 17031020902, 17031030101, 17031030102, 17031030103, 17031030200, 17031030300, 17031030400, 17031030500, 17031030601, 17031030603, 17031030604, 17031030701, 17031030703, 17031030706, 17031030800, 17031030900, 17031031000, 17031031100, 17031031200, 17031031300, 17031031400, 17031031501, 17031031502, 17031031700, 17031031800, 17031031900, 17031032100, 17031040100, 17031040201, 17031040202, 17031040300, 17031040401, 17031040402, 17031040600, 17031040700, 17031040800, 17031040900, 17031050100, 17031050200, 17031050300, 17031050500, 17031050600, 17031050700, 17031050800, 17031050900, 17031051000, 17031051100, 17031051200, 17031051300, 17031051400, 17031060100, 17031060200, 17031060300, 17031060400, 17031060500, 17031060800, 17031060900, 17031061000, 17031061100, 17031061200, 17031061500, 17031061800, 17031061901, 17031061902, 17031062000, 17031062100, 17031062200, 17031062300, 17031062400, 17031062500, 17031062600, 17031062700, 17031062800, 17031062900, 17031063000, 17031063100, 17031063200, 17031063301, 17031063302, 17031063400, 17031070101, 17031070102, 17031070103, 17031070200, 17031070300, 17031070400, 17031070500, 17031070600, 17031070700, 17031071000, 17031071100, 17031071200, 17031071300, 17031071400, 17031071500, 17031071600, 17031071700, 17031071800, 17031080100, 17031080201, 17031080202, 17031080300, 17031080400, 17031081000, 17031081100, 17031081201, 17031081202, 17031081300, 17031081401, 17031081402, 17031081403, 17031081500, 17031081600, 17031081700, 17031081800, 17031081900, 17031100100, 17031100200, 17031100300, 17031100500, 17031100600, 17031100700, 17031110100, 17031110200, 17031110300, 17031110400, 17031110501, 17031110502, 17031120100, 17031120200, 17031120300, 17031120400, 17031130200, 17031130300, 17031140100, 17031140200, 17031140301, 17031140302, 17031140400, 17031140601, 17031140602, 17031140701, 17031140702, 17031140800, 17031150200, 17031150300, 17031150401, 17031150402, 17031150501, 17031150502, 17031150600, 17031150700, 17031150800, 17031151001, 17031151002, 17031151100, 17031151200, 17031160100, 17031160200, 17031160300, 17031160400, 17031160501, 17031160502, 17031160601, 17031160602, 17031160700, 17031160800, 17031160900, 17031161000, 17031161100, 17031161200, 17031161300, 17031170200, 17031170500, 17031170600, 17031170700, 17031171000, 17031180100, 17031190200, 17031190300, 17031190401, 17031190402, 17031190800, 17031190900, 17031191200, 17031191301, 17031191302, 17031200100, 17031200300, 17031200402, 17031210100, 17031210400, 17031210501, 17031210502, 17031210601, 17031210602, 17031210700, 17031210800, 17031210900, 17031220300, 17031220400, 17031220500, 17031220601, 17031220602, 17031220701, 17031220702, 17031220901, 17031220902, 17031221000, 17031221100, 17031221200, 17031221300, 17031221400, 17031221500, 17031221600, 17031222200, 17031222500, 17031222600, 17031222700, 17031222800, 17031222900, 17031230100, 17031230200, 17031230400, 17031230700, 17031230800, 17031230900, 17031231200, 17031240200, 17031240300, 17031240500, 17031240600, 17031240700, 17031240800, 17031240900, 17031241000, 17031241100, 17031241200, 17031241300, 17031241400, 17031241500, 17031241600, 17031242000, 17031242100, 17031242200, 17031242300, 17031242400, 17031242500, 17031242600, 17031242700, 17031242800, 17031242900, 17031243000, 17031243100, 17031243200, 17031243300, 17031243400, 17031243500, 17031250300, 17031250400, 17031251400, 17031251800, 17031252000, 17031252201, 17031260600, 17031260800, 17031261000, 17031270500, 17031271200, 17031271300, 17031280100, 17031280400, 17031280800, 17031280900, 17031281900, 17031282700, 17031282800, 17031283100, 17031283200, 17031283800, 17031291600, 17031292200, 17031300800, 17031300900, 17031301100, 17031301600, 17031301701, 17031301802, 17031310200, 17031310300, 17031310400, 17031310500, 17031310600, 17031310700, 17031310800, 17031310900, 17031320100, 17031320400, 17031320600, 17031330100, 17031330200, 17031340300, 17031340400, 17031340500, 17031350100, 17031351000, 17031351100, 17031351400, 17031351500, 17031360200, 17031380100, 17031380200, 17031380700, 17031381200, 17031381400, 17031381800, 17031381900, 17031390100, 17031390200, 17031390300, 17031390400, 17031390500, 17031390600, 17031390700, 17031400300, 17031400400, 17031400500, 17031410100, 17031410200, 17031410500, 17031410600, 17031410700, 17031410800, 17031410900, 17031411000, 17031411100, 17031411200, 17031420200, 17031420300, 17031420400, 17031420500, 17031420600, 17031420700, 17031420800, 17031430101, 17031430102, 17031430200, 17031430300, 17031430400, 17031430600, 17031430700, 17031430800, 17031431200, 17031431302, 17031431400, 17031440201, 17031440300, 17031440900, 17031450300, 17031460100, 17031460500, 17031480400, 17031490300, 17031500300, 17031550100, 17031560100, 17031560300, 17031560400, 17031560700, 17031560800, 17031570300, 17031570400, 17031580100, 17031580400, 17031580501, 17031580502, 17031580700, 17031590500, 17031590600, 17031590700, 17031600400, 17031600600, 17031600700, 17031600900, 17031611900, 17031612000, 17031620200, 17031620300, 17031630400, 17031650200, 17031650302, 17031650500, 17031671300, 17031681000, 17031681200, 17031690300, 17031690400, 17031690900, 17031691100, 17031691300, 17031700401, 17031700501, 17031720200, 17031720300, 17031750200, 17031750500, 17031760801, 17031760803, 17031810000, 17031820800, 17031830600, 17031830700, 17031830800, 17031830900, 17031831000, 17031831100, 17031831200, 17031831500, 17031831700, 17031831800, 17031831900, 17031832000, 17031832100, 17031832200, 17031832300, 17031832400, 17031832500, 17031832600, 17031832900, 17031833000, 17031833100, 17031833300, 17031834400, 17031834500, 17031834600, 17031835600, 17031835800, 17031835900, 17031836000, 17031836100, 17031836200, 17031836300, 17031836400, 17031836500, 17031836600, 17031836700, 17031836800, 17031836900, 17031837000, 17031837100, 17031837400, 17031837800, 17031838000, 17031838100, 17031838200, 17031838300, 17031838700, 17031839000, 17031839100, 17031839200, 17031839500, 17031839600, 17031839700, 17031839800, 17031839900, 17031840000, 17031840100, 17031840200, 17031840300, 17031840400, 17031840700, 17031841000, 17031841100, 17031841200, 17031841300, 17031841400, 17031841600, 17031841700, 17031841800, 17031841900, 17031842000, 17031842100, 17031842200, 17031842300, 17031842600, 17031842800, 17031842900, 17031843000, 17031843100, 17031843200, 17031843600, 17031843700, 17031843800, 17031843900]\n",
      "\n",
      "Cluster 1:\n",
      "[17031300500]\n",
      "\n",
      "Cluster 2:\n",
      "[17031020302, 17031030104, 17031140500, 17031480200, 17031570200, 17031650100, 17031650301, 17031720600, 17031834700]\n",
      "\n"
     ]
    }
   ],
   "source": [
    "# Grouping the DataFrame by 'Cluster' and listing tracts in each cluster\n",
    "tracts_per_cluster = tract_metrics.groupby('Cluster')['census_tract'].apply(list)\n",
    "\n",
    "# Display the tracts for each cluster\n",
    "for cluster, tracts in tracts_per_cluster.items():\n",
    "    print(f\"Cluster {cluster}:\")\n",
    "    print(tracts)\n",
    "    print() "
   ]
  }
 ],
 "metadata": {
  "kernelspec": {
   "display_name": "Python 3",
   "language": "python",
   "name": "python3"
  },
  "language_info": {
   "codemirror_mode": {
    "name": "ipython",
    "version": 3
   },
   "file_extension": ".py",
   "mimetype": "text/x-python",
   "name": "python",
   "nbconvert_exporter": "python",
   "pygments_lexer": "ipython3",
   "version": "3.10.11"
  }
 },
 "nbformat": 4,
 "nbformat_minor": 2
}
